{
  "nbformat": 4,
  "nbformat_minor": 0,
  "metadata": {
    "colab": {
      "provenance": []
    },
    "kernelspec": {
      "name": "python3",
      "display_name": "Python 3"
    },
    "language_info": {
      "name": "python"
    },
    "gpuClass": "premium"
  },
  "cells": [
    {
      "cell_type": "markdown",
      "source": [
        "<img src=\"https://drive.google.com/uc?id=1dFgNX9iQUfmBOdmUN2-H8rPxL3SLXmxn\" width=\"400\"/>\n",
        "\n",
        "\n",
        "---\n"
      ],
      "metadata": {
        "id": "9YehS8enAmDn"
      }
    },
    {
      "cell_type": "markdown",
      "source": [
        "### ***Name***: [*your name goes here*]\n",
        "### ***CID***: [*your CID goes here*]"
      ],
      "metadata": {
        "id": "gD4VUfPGx8Oy"
      }
    },
    {
      "cell_type": "markdown",
      "source": [
        "# Instructions:\n",
        "\n",
        "Follow the instructions below to complete the coursework and submit it:\n",
        "\n",
        "<br>\n",
        "\n",
        "1. Complete your coursework using this provided Jupyter Notebook template (use Google Colab or your local machine if it has a GPU and/or sufficient computational power). Your copy of the notebook should be named: `yourusername_coursework_I.ipynb`. And don't forget to fill in the two fields at the top of this notebook with your name and CID.\n",
        "\n",
        "<br>\n",
        "\n",
        "2. Once you have completed your answers, upload your final notebook to the repo you got from the github classroom link. Make sure to have all the answers in there:\n",
        "\n",
        "   - **All the cells in your final Jupyter Notebook should be executed before saving and uploading to github in order to have the output of the cells available in the uploaded version** (images you plot, training graphs generated with `livelossplot`, etc). We will not rerun code blocks in the notebooks, it is your responsibility to run them before uploading the notebook.\n",
        "\n",
        "   - Add comments in the code to explain what you are doing at every step. \n",
        "\n",
        "   - All answers requiring written answers (ie, not code) should be in markdown blocks in the Jupyter Notebook. This provided Jupyter Notebook template has allocated blocks for the questions, but **you can add any coding or markdown blocks you need**.\n",
        "\n",
        "<br>\n",
        "\n",
        "3. The coursework is released on **Friday 9 December at 14:00h UK time**, and the answers have to be submitted on **Monday 12 December, 20:00h UK time**. We will not accept late submissions.\n",
        "\n",
        "<br>\n",
        "\n",
        "<br>\n",
        "\n",
        "### The coursework consists of 5 questions you have to complete. You will find them below. \n",
        "\n",
        "- Questions 2 and 3 are very similar and you have to complete both of them, **you DO NOT have to choose one of them, you have to do them both.**\n",
        "\n",
        "- You can use code seen in class, but indicate clearly when you do, and **make it clear (using comments or markdown blocks) what are your modifications**. This will influence your final marks.\n",
        "\n",
        "- Your final marks will depend both on the quality of your results **AND** the justification, explanation and rationale of your implementations.\n",
        "\n",
        "- Reference any publications and other materials that you use, but keep in mind that **your implementations should be original and not copied from any online resources (we will check for plagiarism)**. It is ok to use other resources to understand concepts and draw inspiration, but always reference them properly in the notebook.\n",
        "\n",
        "- Finally, **justify your answers well, but focus on what the question is asking**. I will penalise lengthy answers that do not have any relation with the question being addressed.\n",
        "\n",
        "<br>\n",
        "\n",
        "---\n",
        "\n",
        "<br>"
      ],
      "metadata": {
        "id": "uRlgsfRcx9sT"
      }
    },
    {
      "cell_type": "markdown",
      "source": [
        "## Imports"
      ],
      "metadata": {
        "id": "KyZTroXCzEop"
      }
    },
    {
      "cell_type": "code",
      "source": [
        "### write the imports you will need here."
      ],
      "metadata": {
        "id": "J7r0q-LczFP3"
      },
      "execution_count": null,
      "outputs": []
    },
    {
      "cell_type": "markdown",
      "source": [
        "<br>\n",
        "\n",
        "---\n",
        "\n",
        "<br>"
      ],
      "metadata": {
        "id": "yT8n0p4T4030"
      }
    },
    {
      "cell_type": "markdown",
      "source": [
        "## **Q1** - Download and prepare the Fashion MNIST dataset [10 points]\n",
        "\n",
        "Get the `FashionMNIST` dataset from `torchvision.datasets`\n",
        "\n",
        "- Inspect the dataset and format the data as you see fit to use it in your next questions. Explain the process you follow.\n",
        "\n",
        "- Plot a matrix of images with 10 examples of each class.\n",
        "\n",
        "- Is the dataset well balanced (does it have similar number of samples for each class)? Generate and present data to support your answer in any form you see fit."
      ],
      "metadata": {
        "id": "mOX2kBs-zHhv"
      }
    },
    {
      "cell_type": "code",
      "source": [
        "### your code here (add as many code blocks as you need)"
      ],
      "metadata": {
        "id": "YOJVXNOtMXof"
      },
      "execution_count": null,
      "outputs": []
    },
    {
      "cell_type": "markdown",
      "source": [
        "text block for your answers"
      ],
      "metadata": {
        "id": "pFzgfIw53Q6H"
      }
    },
    {
      "cell_type": "code",
      "source": [
        "### you can reuse material from class, but explain very well modifications in the code and why you did them"
      ],
      "metadata": {
        "id": "Sm_XR_gRTjKu"
      },
      "execution_count": null,
      "outputs": []
    },
    {
      "cell_type": "markdown",
      "source": [
        "text block for your answers"
      ],
      "metadata": {
        "id": "3EYF70z53Yba"
      }
    },
    {
      "cell_type": "markdown",
      "source": [
        "<br>\n",
        "\n",
        "---\n",
        "\n",
        "<br>"
      ],
      "metadata": {
        "id": "NxE9bvBV412w"
      }
    },
    {
      "cell_type": "markdown",
      "source": [
        "## **Q2** - Implement a **conditional VAE** [25 points]\n",
        "\n",
        "Implement a VAE similar to the one we saw in class but with the following modifications:\n",
        "\n",
        "- Your new network should generate samples of any class defined by the user, that is, when you run your decoder, you have to tell it which class you want it to generate. <br> *During the lectures we created a VAE that would generate samples of any class, we did not have control over which class would be generated. The exercise is to modify the network, training loops, and anything else you consider necessary, so that, once is trained, you can generate images of any particular class specified when you run your generative model.*\n",
        "\n",
        "- Expand your network to include **at least two** of the following modifications. Choose them based on what you think will result in better network performance (make sure to justify your choices well, argumenting why did you decide to include your particular modifications):\n",
        "  - Convolutional layers\n",
        "  - Data augmentation \n",
        "  - Different activations\n",
        "  - Different random seed\n",
        "  - Other network modifications that are well justified. <br> *You have freedom to choose what to do here, but your marks will depend not only on the correct implementation but also on the justification of your choices.*\n",
        "\n",
        "- Use your trained conditional VAE to **generate and plot 10 new samples of each class** by adding the class label to your random input (in any form you have implemented it).\n",
        "\n",
        "- You **DO NOT** have to optimise any hyperparameters, but if you had to choose three hyperparameters to optimise:\n",
        "  - Which ones would you choose and why?\n",
        "\n",
        "Generate information of your training process (liveloss plots, or any other data that will help you understand your results and analyse them in the last question **Q4**).\n",
        "\n"
      ],
      "metadata": {
        "id": "9gDJwiiz0BXE"
      }
    },
    {
      "cell_type": "markdown",
      "source": [
        "<br>\n",
        "\n",
        "---\n",
        "\n",
        "<br>"
      ],
      "metadata": {
        "id": "dCQJ1CIF42n-"
      }
    },
    {
      "cell_type": "markdown",
      "source": [
        "## **Q3** - Implement a **conditional GAN** that generates a user-defined class [25 points]\n",
        "\n",
        "Implement a GANs similar to the one we saw in class but with the following modifications:\n",
        "\n",
        "- Your new network should generate samples of any class defined by the user, that is, when you run your generator, you have to tell it which class you want it to generate. <br> *During the lectures we created a GAN that would generate samples of any class, we did not have control over which class would be generated. The exercise is to modify the network, training loops, and anything else you consider necessary, so that, once is trained, you can generate images of any particular class specified when you run your generative model.*\n",
        "\n",
        "- Expand your network to include **at least two** of the following modifications. Choose them based on what you think will result in better network performance (make sure to justify your choices well, argumenting why did you decide to include your particular modifications):\n",
        "  - Convolutional layers\n",
        "  - Data augmentation\n",
        "  - Different activations\n",
        "  - Different random seed\n",
        "  - Other network modifications that are well justified. <br> *You have freedom to choose what to do here, but your marks will depend not only on the correct implementation but also on the justification of your choices.*\n",
        "\n",
        "- Use your trained conditional GAN to **generate and plot 10 new samples of each class** by adding the class label to your random input (in any form you have implemented it).\n",
        "\n",
        "- You **DO NOT** have to optimise any hyperparameters, but if you had to choose three hyperparameters to optimise:\n",
        "  - Which ones would you choose and why?\n",
        "  - Would they be different from your choices in **Q2**?\n",
        "\n",
        "\n",
        "Generate information of your training process (liveloss plots, or any other data that will help you understand your results and analyse them in the last question **Q4**)."
      ],
      "metadata": {
        "id": "uXC9kTie3MRt"
      }
    },
    {
      "cell_type": "code",
      "source": [
        "# your code here (add as many code blocks as you need)"
      ],
      "metadata": {
        "id": "JZrlUj7U4KRJ"
      },
      "execution_count": null,
      "outputs": []
    },
    {
      "cell_type": "markdown",
      "source": [
        "text block for your answers"
      ],
      "metadata": {
        "id": "MfQoOjYS5cW6"
      }
    },
    {
      "cell_type": "code",
      "source": [
        "# you can reuse material from class, but explain very well modifications in the code and why you did them"
      ],
      "metadata": {
        "id": "p-kdMqU_4KRK"
      },
      "execution_count": null,
      "outputs": []
    },
    {
      "cell_type": "markdown",
      "source": [
        "text block for your answers"
      ],
      "metadata": {
        "id": "jy0P8RgI5dCU"
      }
    },
    {
      "cell_type": "markdown",
      "source": [
        "<br>\n",
        "\n",
        "---\n",
        "\n",
        "<br>"
      ],
      "metadata": {
        "id": "XsytFvvd43ud"
      }
    },
    {
      "cell_type": "markdown",
      "source": [
        "## **Q4** - Analysis and comparison of results [20 points]\n",
        "\n",
        "Analyse and compare the results you have obtained with the two networks above.\n",
        "\n",
        "- Use the data you generated training the three networks above to discuss the results you have generated in **Q2** and **Q3**.\n",
        "- Is there a network that performs better than the other? Why do you think that is?\n",
        "- What could you do to improve your results on each of the networks you have implemented? ***\\[limit your answer to this question to 150 words\\]***\n",
        "\n",
        "**IMPORTANT NOTE**: even if you did not complete **Q2** and **Q3**, make sure to include a discussion with any partial results or other considerations regarding the performance of your implemented methods."
      ],
      "metadata": {
        "id": "7vkmbhgx4Zm9"
      }
    },
    {
      "cell_type": "code",
      "source": [
        "### your code here, if you need any (add as many code blocks as you need)"
      ],
      "metadata": {
        "id": "z6EL0Qm1wvfD"
      },
      "execution_count": null,
      "outputs": []
    },
    {
      "cell_type": "markdown",
      "source": [
        "text block for your answers"
      ],
      "metadata": {
        "id": "oNNJTWp56MRU"
      }
    },
    {
      "cell_type": "markdown",
      "source": [
        "<br>\n",
        "\n",
        "---\n",
        "\n",
        "<br>"
      ],
      "metadata": {
        "id": "R79Gp-Yc45-m"
      }
    },
    {
      "cell_type": "markdown",
      "source": [
        "## **Q5** - Modify your dataset to create data imbalance and retrain **one** of your conditional models [20 points]\n",
        "\n",
        "Modify the `FashionMNIST` dataset to eliminate 90% of the images corresponding to one of the classes in the dataset (whichever you want).\n",
        "\n",
        "Now, **choose one of the two questions below (a or b)**:\n",
        "\n",
        "- **Q5-a) Retrain your conditional VAE from scratch** with this new dataset, and after training, use it to generate 10 images for the class you have decimated.\n",
        "\n",
        "- **Q5-b) Retrain your conditional GAN from scratch** with this new dataset, and after training, use it to generate 10 images for the class you have decimated.\n",
        "\n",
        "- Compare the results of this new images generated with the modified dataset with the original results from questions **Q2** or **Q3** (depending of whether you have chosen **Q5-a** or **Q5-b**). What do you observe? Describe your interpretation of this comparison."
      ],
      "metadata": {
        "id": "j4VacjK50Rcv"
      }
    },
    {
      "cell_type": "code",
      "source": [
        "# your code here (add as many code blocks as you need)"
      ],
      "metadata": {
        "id": "s6XhR5yT1P77"
      },
      "execution_count": null,
      "outputs": []
    },
    {
      "cell_type": "markdown",
      "source": [
        "text block for your answers"
      ],
      "metadata": {
        "id": "Emu4gNjE3SXT"
      }
    },
    {
      "cell_type": "code",
      "source": [
        "### your code here, if you need any (add as many code blocks as you need)"
      ],
      "metadata": {
        "id": "Fd8MFq1E3Uxd"
      },
      "execution_count": null,
      "outputs": []
    },
    {
      "cell_type": "markdown",
      "source": [
        "text block for your answers"
      ],
      "metadata": {
        "id": "uUA3TW6a3YVo"
      }
    }
  ]
}